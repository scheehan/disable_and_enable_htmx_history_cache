{
 "cells": [
  {
   "cell_type": "code",
   "execution_count": 5,
   "metadata": {},
   "outputs": [
    {
     "name": "stdout",
     "output_type": "stream",
     "text": [
      "catwomen\n",
      "batman\n"
     ]
    }
   ],
   "source": [
    "from flask import Flask\n",
    "from flask_sqlalchemy import SQLAlchemy\n",
    "from sqlalchemy.orm import DeclarativeBase, Mapped, mapped_column\n",
    "\n",
    "app = Flask(__name__)\n",
    "app.config[\"SQLALCHEMY_DATABASE_URI\"] = \"sqlite:///site.db\"\n",
    "\n",
    "class Base(DeclarativeBase):\n",
    "  pass\n",
    "\n",
    "db = SQLAlchemy(app, model_class=Base)\n",
    "\n",
    "class User(db.Model):\n",
    "    id = db.Column(db.Integer, primary_key=True)\n",
    "    username = db.Column(db.String(120), unique=True, nullable=False)\n",
    "    password = db.Column(db.String(255), nullable=False)\n",
    "\n",
    "with app.app_context():\n",
    "    # db.create_all()\n",
    "\n",
    "    # db.session.delete(id=0)\n",
    "    # db.session.commit()\n",
    "\n",
    "    users = db.session.execute(db.select(User)).scalars()\n",
    "    \n",
    "    # myuser = User.query.filter_by(username='example').delete()\n",
    "    # db.session.commit()\n",
    "    \n",
    "    # print(myuser)\n",
    "\n",
    "    for i in users:\n",
    "      print(i.username)\n",
    "\n"
   ]
  },
  {
   "cell_type": "code",
   "execution_count": null,
   "metadata": {},
   "outputs": [
    {
     "ename": "TypeError",
     "evalue": "'module' object is not callable",
     "output_type": "error",
     "traceback": [
      "\u001b[1;31m---------------------------------------------------------------------------\u001b[0m",
      "\u001b[1;31mTypeError\u001b[0m                                 Traceback (most recent call last)",
      "Cell \u001b[1;32mIn[6], line 8\u001b[0m\n\u001b[0;32m      4\u001b[0m sqlalchemy\u001b[38;5;241m.\u001b[39m__version__ \n\u001b[0;32m      6\u001b[0m engine \u001b[38;5;241m=\u001b[39m sqlalchemy\u001b[38;5;241m.\u001b[39mcreate_engine(\u001b[38;5;124m'\u001b[39m\u001b[38;5;124msqlite:///site.db\u001b[39m\u001b[38;5;124m'\u001b[39m) \n\u001b[1;32m----> 8\u001b[0m db \u001b[38;5;241m=\u001b[39m \u001b[43msqlalchemy\u001b[49m\u001b[43m(\u001b[49m\u001b[43mengine\u001b[49m\u001b[43m)\u001b[49m\n\u001b[0;32m     10\u001b[0m stmt \u001b[38;5;241m=\u001b[39m sqlalchemy\u001b[38;5;241m.\u001b[39mselect(User)\u001b[38;5;241m.\u001b[39mwhere(User\u001b[38;5;241m.\u001b[39musername \u001b[38;5;241m==\u001b[39m \u001b[38;5;124m\"\u001b[39m\u001b[38;5;124mbatman\u001b[39m\u001b[38;5;124m\"\u001b[39m)\n\u001b[0;32m     12\u001b[0m \u001b[38;5;28mprint\u001b[39m(stmt)\n",
      "\u001b[1;31mTypeError\u001b[0m: 'module' object is not callable"
     ]
    }
   ],
   "source": [
    "import sqlalchemy\n",
    "from sqlalchemy.orm import sessionmaker \n",
    "\n",
    "sqlalchemy.__version__ \n",
    "\n",
    "engine = sqlalchemy.create_engine('sqlite:///site.db') \n",
    "\n",
    "db = sqlalchemy(engine)\n",
    "\n",
    "stmt = sqlalchemy.select(User).where(User.username == \"batman\")\n",
    "\n",
    "print(stmt)\n",
    "\n",
    "with engine.connect() as conn:\n",
    "    for i in conn.execute(stmt):\n",
    "        print(i)\n",
    "\n",
    "\n",
    "# engine = sqlalchemy.create_engine('sqlite:///site.db') \n",
    "    \n",
    "# stmt = sqlalchemy.select(sqlalchemy.column('username')).select_from(sqlalchemy.table('User')).where(sqlalchemy.column('username') == 'batman')\n",
    "\n",
    "# class User(db.Model):\n",
    "#     id = db.Column(db.Integer, primary_key=True)\n",
    "#     username = db.Column(db.String(120), unique=True, nullable=False)\n",
    "#     password = db.Column(db.String(255), nullable=False)\n",
    "\n",
    "# Session = sessionmaker(bind=engine) \n",
    "# session = Session() \n",
    "\n",
    "# with engine.connect() as conn:\n",
    "#     username = 'catwomen'\n",
    "#     result = conn.execute(sqlalchemy.text(\"select * from User\"))\n",
    "#     result_1 = User.select(session.username).filter_by(username=\"catwomen\")\n",
    "    \n",
    "#     # conn.execute(User.query.filter_by(username=username).first())\n",
    "    \n",
    "#     print(result_1.columns('password').all())\n",
    "\n",
    "# results = sqlalchemy.select(User).where(User.name.in_([\"spongebob\", \"sandy\"]))\n",
    "# # results = session.query('username').filter(username.value).all().query.filter_by(username=username).first()\n",
    "\n",
    "# for user in session.scalars(results):\n",
    "#     print(user)\n"
   ]
  },
  {
   "cell_type": "code",
   "execution_count": null,
   "metadata": {},
   "outputs": [],
   "source": [
    "    myheaders = {\n",
    "        \"htmx-config\": {\n",
    "            \"historyCacheSize=0\", \n",
    "            \"refreshOnHistoryMiss=true\"\n",
    "            },\n",
    "        \"Cache-Control\": \"no-cache, no-store, must-revalidate, post-check=0, pre-check=0\",\n",
    "        \"Location\": \"/login\"\n",
    "    }"
   ]
  }
 ],
 "metadata": {
  "kernelspec": {
   "display_name": ".venv",
   "language": "python",
   "name": "python3"
  },
  "language_info": {
   "codemirror_mode": {
    "name": "ipython",
    "version": 3
   },
   "file_extension": ".py",
   "mimetype": "text/x-python",
   "name": "python",
   "nbconvert_exporter": "python",
   "pygments_lexer": "ipython3",
   "version": "3.11.9"
  }
 },
 "nbformat": 4,
 "nbformat_minor": 2
}
